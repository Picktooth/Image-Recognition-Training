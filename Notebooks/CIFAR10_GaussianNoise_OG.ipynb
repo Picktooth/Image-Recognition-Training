{
 "cells": [
  {
   "cell_type": "code",
   "execution_count": 1,
   "id": "c494733f-00e6-4d91-aeeb-8f4714a6ca34",
   "metadata": {
    "tags": []
   },
   "outputs": [
    {
     "name": "stdout",
     "output_type": "stream",
     "text": [
      "Success\n"
     ]
    }
   ],
   "source": [
    "# Basics\n",
    "import torch\n",
    "import torchvision\n",
    "import torchvision.transforms as transforms\n",
    "import torchvision.datasets\n",
    "import numpy as np\n",
    "import cv2\n",
    "import copy\n",
    "# Adding noise\n",
    "from skimage.util import random_noise\n",
    "from torchvision.utils import save_image\n",
    "from torch.utils.data import DataLoader\n",
    "\n",
    "# For CNN\n",
    "import torch.nn as nn\n",
    "import torch.nn.functional as F\n",
    "\n",
    "# For Loss Func. And Optimization\n",
    "import torch.optim as optim\n",
    "\n",
    "# For Visual Representation\n",
    "import matplotlib.pyplot as plt\n",
    "\n",
    "# In case defined class doesn't work, create new dataset from this\n",
    "from torchvision.datasets import ImageFolder as img_fold\n",
    "\n",
    "print(\"Success\")\n"
   ]
  },
  {
   "cell_type": "code",
   "execution_count": 219,
   "id": "a8ce311e",
   "metadata": {},
   "outputs": [],
   "source": [
    "EPOCHS = 20\n",
    "TRAIN_NOISE = True\n",
    "TEST_NOISE = False\n",
    "BATCH_SIZE = 5\n",
    "NUM_CLASSES = 10\n",
    "\n",
    "transformer = transforms.Compose([transforms.ToTensor(),transforms.Normalize((0.5, 0.5, 0.5), (0.5, 0.5, 0.5))])"
   ]
  },
  {
   "cell_type": "code",
   "execution_count": 125,
   "id": "ee8a0a0d",
   "metadata": {},
   "outputs": [],
   "source": [
    "device = torch.device(\"cuda:0\" if torch.cuda.is_available() else \"cpu\")"
   ]
  },
  {
   "cell_type": "code",
   "execution_count": 5,
   "id": "89a8a5b3",
   "metadata": {},
   "outputs": [
    {
     "name": "stdout",
     "output_type": "stream",
     "text": [
      "Files already downloaded and verified\n"
     ]
    }
   ],
   "source": [
    "# Run if using normal CIFAR\n",
    "\n",
    "# Data Downloading\n",
    "trainset = torchvision.datasets.CIFAR10(root='./data', train=True,\n",
    "                                        download=True, transform=transformer)\n",
    "\n",
    "# Data Loader\n",
    "trainLoader = torch.utils.data.DataLoader(trainset, batch_size=BATCH_SIZE, shuffle=True, num_workers=2)\n",
    "\n",
    "# Image Categories\n",
    "classes = ('plane', 'car', 'bird', 'cat',\n",
    "           'deer', 'dog', 'frog', 'horse', 'ship', 'truck') "
   ]
  },
  {
   "cell_type": "code",
   "execution_count": 126,
   "id": "094c4a5f",
   "metadata": {},
   "outputs": [],
   "source": [
    "# Setting root directory for training data\n",
    "trainroot = \"./Noiseimg/train\"\n",
    "testroot = \"./Noiseimg/test\"\n",
    "# Using ImageFolder to designate and transform our entire dataset (determine if necessary to transform here and in dataloaders)\n",
    "trainset = img_fold(root=trainroot, transform=transformer)\n",
    "testset = img_fold(root=testroot, transform=transformer)"
   ]
  },
  {
   "cell_type": "code",
   "execution_count": 127,
   "id": "255ffe08",
   "metadata": {},
   "outputs": [
    {
     "name": "stdout",
     "output_type": "stream",
     "text": [
      "Labels:  ['bird', 'car', 'cat', 'deer', 'dog', 'frog', 'horse', 'plane', 'ship', 'truck']\n",
      "Trainset Length:  1000\n",
      "Testset Length:  100\n"
     ]
    }
   ],
   "source": [
    "# grabbing labels\n",
    "class_names = trainset.classes\n",
    "print('Labels: ',class_names)\n",
    "print('Trainset Length: ', len(trainset))\n",
    "print('Testset Length: ', len(testset))"
   ]
  },
  {
   "cell_type": "code",
   "execution_count": 128,
   "id": "3f39d0f6",
   "metadata": {},
   "outputs": [
    {
     "name": "stdout",
     "output_type": "stream",
     "text": [
      "Image tensor:\n",
      "tensor([[[-1.0000, -1.0000, -1.0000,  ..., -1.0000, -0.4196, -0.5608],\n",
      "         [-1.0000, -0.5608, -1.0000,  ..., -1.0000, -1.0000,  0.0902],\n",
      "         [-1.0000, -0.9922, -1.0000,  ..., -0.9843, -1.0000, -0.5765],\n",
      "         ...,\n",
      "         [-0.8588,  0.4510, -0.4980,  ..., -1.0000, -0.7176, -0.9608],\n",
      "         [-0.6235, -1.0000, -0.3569,  ..., -0.3569, -0.3490, -0.1843],\n",
      "         [-0.7333, -0.2549, -0.9608,  ..., -0.3020, -1.0000, -0.3255]],\n",
      "\n",
      "        [[-1.0000, -1.0000, -1.0000,  ..., -0.3569, -0.7569, -0.6000],\n",
      "         [-1.0000, -0.9373, -1.0000,  ..., -1.0000, -1.0000, -0.8431],\n",
      "         [-1.0000, -1.0000, -1.0000,  ..., -0.3804, -0.4510, -0.7333],\n",
      "         ...,\n",
      "         [-1.0000, -0.2471, -0.5373,  ..., -0.8824, -0.4196, -0.1686],\n",
      "         [-0.6392, -0.2706, -0.3176,  ..., -0.4902, -1.0000,  0.1608],\n",
      "         [-0.7882,  0.1843, -1.0000,  ..., -0.6235, -0.2863, -1.0000]],\n",
      "\n",
      "        [[-1.0000, -1.0000, -1.0000,  ..., -1.0000, -1.0000, -0.2941],\n",
      "         [-1.0000, -1.0000, -1.0000,  ..., -1.0000, -0.5137, -0.7804],\n",
      "         [-1.0000, -1.0000, -1.0000,  ..., -1.0000, -0.2000, -0.8667],\n",
      "         ...,\n",
      "         [-1.0000, -1.0000, -1.0000,  ..., -1.0000, -1.0000, -0.7333],\n",
      "         [-0.9765, -1.0000, -1.0000,  ..., -1.0000, -1.0000, -0.8745],\n",
      "         [-1.0000, -1.0000, -0.3882,  ..., -1.0000,  0.1765, -0.8118]]])\n",
      "Image shape: torch.Size([3, 32, 32])\n",
      "Image datatype: torch.float32\n",
      "Image label: 0\n",
      "Label datatype: <class 'int'>\n"
     ]
    }
   ],
   "source": [
    "# Storing tensors for images and labels\n",
    "img, label = trainset[0][0], trainset[0][1]\n",
    "print(f\"Image tensor:\\n{img}\")\n",
    "print(f\"Image shape: {img.shape}\")\n",
    "print(f\"Image datatype: {img.dtype}\")\n",
    "print(f\"Image label: {label}\")\n",
    "print(f\"Label datatype: {type(label)}\")"
   ]
  },
  {
   "cell_type": "code",
   "execution_count": null,
   "id": "454f4073",
   "metadata": {},
   "outputs": [],
   "source": [
    "# Custom dataset created, proceed training like normal\n",
    "# Consider creating a way to check number of pictures in a folder; designate number of photos per class folder -> fill each class folder until number is met | Consider using the length function to get the length of the folder\n",
    "# Modify to use as a general template"
   ]
  },
  {
   "cell_type": "code",
   "execution_count": 152,
   "id": "f1d4ca44",
   "metadata": {},
   "outputs": [],
   "source": [
    "trainloader = torch.utils.data.DataLoader(trainset, batch_size=BATCH_SIZE,\n",
    "                                            shuffle=True, num_workers=2)\n",
    "\n",
    "testloader =torch.utils.data.DataLoader(testset, batch_size = BATCH_SIZE,\n",
    "                                            shuffle=True, num_workers=2)"
   ]
  },
  {
   "cell_type": "code",
   "execution_count": 153,
   "id": "4384fbac",
   "metadata": {},
   "outputs": [
    {
     "data": {
      "image/png": "[encoded data removed]",
      "text/plain": [
       "<Figure size 640x480 with 1 Axes>"
      ]
     },
     "metadata": {},
     "output_type": "display_data"
    },
    {
     "name": "stdout",
     "output_type": "stream",
     "text": [
      "cat   bird  ship  plane\n"
     ]
    }
   ],
   "source": [
    "# Show image\n",
    "def imshow(img):\n",
    "    img = img / 2 + 0.5     # Unnormalize\n",
    "    npimg = img.numpy()\n",
    "    plt.imshow(np.transpose(npimg, (1, 2, 0)))\n",
    "    plt.show()\n",
    "    \n",
    "# Randomly selected training img\n",
    "dataiter = iter(trainloader)\n",
    "images, labels = next(dataiter)\n",
    "\n",
    "# show images\n",
    "imshow(torchvision.utils.make_grid(images))\n",
    "\n",
    "# print labels\n",
    "print(' '.join(f'{trainset.classes[labels[j]]:5s}' for j in range(BATCH_SIZE)))"
   ]
  },
  {
   "cell_type": "code",
   "execution_count": 154,
   "id": "06579f7f",
   "metadata": {},
   "outputs": [
    {
     "name": "stdout",
     "output_type": "stream",
     "text": [
      "Image shape: torch.Size([3, 32, 32]) -> [batch_size, color_channels, height, width]\n",
      "Label shape: torch.Size([4])\n"
     ]
    }
   ],
   "source": [
    "print(f\"Image shape: {img.shape} -> [batch_size, color_channels, height, width]\")\n",
    "print(f\"Label shape: {labels.shape}\")"
   ]
  },
  {
   "cell_type": "code",
   "execution_count": 220,
   "id": "9eca5fb2",
   "metadata": {},
   "outputs": [],
   "source": [
    "class Net(nn.Module):\n",
    "    \n",
    "    # Defining a network\n",
    "    def __init__(self):\n",
    "        super().__init__()\n",
    "        self.conv1 = nn.Conv2d(3, 10, 5) #Change argument 2 to experiment, must match argument 1 of conv 2\n",
    "        self.pool = nn.MaxPool2d(2, 2)\n",
    "        self.conv2 = nn.Conv2d(10, 16, 5) #Change argument 1 to experiment, must match argument 2 of conv 1\n",
    "        self.fc1 = nn.Linear(16 * 5 * 5, 120)\n",
    "        self.fc2 = nn.Linear(120, 84)\n",
    "        self.fc3 = nn.Linear(84, 10)\n",
    "        \n",
    "    # Defining forward pass\n",
    "    def forward(self, x):\n",
    "        x = self.pool(F.relu(self.conv1(x)))\n",
    "        x = self.pool(F.relu(self.conv2(x)))\n",
    "        x = torch.flatten(x, 1) # flatten all dimensions except batch\n",
    "        x = F.relu(self.fc1(x))\n",
    "        x = F.relu(self.fc2(x))\n",
    "        x = self.fc3(x)\n",
    "        return x\n",
    "    \n",
    "net = Net()"
   ]
  },
  {
   "cell_type": "code",
   "execution_count": 196,
   "id": "96e6e201",
   "metadata": {},
   "outputs": [],
   "source": [
    "# Setting up loss func. and optim\n",
    "criterion = nn.CrossEntropyLoss()\n",
    "optimizer = optim.SGD(net.parameters(), lr = .01, momentum=0.9)"
   ]
  },
  {
   "cell_type": "code",
   "execution_count": 221,
   "id": "9dd8074a",
   "metadata": {},
   "outputs": [
    {
     "name": "stdout",
     "output_type": "stream",
     "text": [
      "Available\n",
      "\n",
      "Final Train loss:  46.11253053665161   Final Train Acc:  2.0\n"
     ]
    }
   ],
   "source": [
    "# Setting up CUDA Device\n",
    "if torch.cuda.is_available():\n",
    "    print(\"Available\")\n",
    "    device = torch.device(\"cuda\")\n",
    "    net.cuda()\n",
    "    print(\"\")\n",
    "    \n",
    "# Setup train loss and train accuracy values\n",
    "train_loss, train_acc = 0, 0\n",
    "    \n",
    "# Loop through data loader data batches\n",
    "for epoch in range(EPOCHS):\n",
    "    for batch, (X, y) in enumerate(trainloader):\n",
    "        # Send data to target device\n",
    "        X, y = X.to(device), y.to(device)\n",
    "\n",
    "        # 1. Forward pass\n",
    "        y_pred = net(X)\n",
    "\n",
    "        # 2. Calculate  and accumulate loss\n",
    "        loss = criterion(y_pred, y)\n",
    "        train_loss += loss.item() \n",
    "\n",
    "        # 3. Optimizer zero grad\n",
    "        optimizer.zero_grad()\n",
    "\n",
    "        # 4. Loss backward\n",
    "        loss.backward()\n",
    "\n",
    "        # 5. Optimizer step\n",
    "        optimizer.step()\n",
    "\n",
    "        # Calculate and accumulate accuracy metric across all batches\n",
    "        y_pred_class = torch.argmax(torch.softmax(y_pred, dim=1), dim=1)\n",
    "        train_acc += (y_pred_class == y).sum().item()/len(y_pred)\n",
    "        \n",
    "        # print('Train loss: ', train_loss,' ', 'Train Acc: ',train_acc)\n",
    "\n",
    "# Adjust metrics to get average loss and accuracy per batch \n",
    "train_loss = train_loss / len(trainloader)\n",
    "train_acc = train_acc / len(trainloader)\n",
    "print('Final Train loss: ', train_loss,' ', 'Final Train Acc: ',train_acc)"
   ]
  },
  {
   "cell_type": "code",
   "execution_count": 208,
   "id": "eca61f39",
   "metadata": {},
   "outputs": [],
   "source": [
    "PATH = './cifar_net_gauss.pth'\n",
    "torch.save(net.state_dict(), PATH)"
   ]
  },
  {
   "cell_type": "code",
   "execution_count": 215,
   "metadata": {},
   "outputs": [
    {
     "data": {
      "image/png": "[encoded data removed]",
      "text/plain": [
       "<Figure size 640x480 with 1 Axes>"
      ]
     },
     "metadata": {},
     "output_type": "display_data"
    },
    {
     "name": "stdout",
     "output_type": "stream",
     "text": [
      "Truth:  bird  car   truck dog  \n"
     ]
    }
   ],
   "source": [
    "dataiter = iter(testloader)\n",
    "images, labels = next(dataiter)\n",
    "\n",
    "# show img from test set\n",
    "imshow(torchvision.utils.make_grid(images))\n",
    "print('Truth: ', ' '.join(f'{testset.classes[labels[j]]:5s}' for j in range(BATCH_SIZE)))"
   ]
  },
  {
   "cell_type": "code",
   "execution_count": 217,
   "id": "e92c6db6",
   "metadata": {},
   "outputs": [
    {
     "name": "stdout",
     "output_type": "stream",
     "text": [
      "Predicted:  dog   cat   cat   dog  \n"
     ]
    }
   ],
   "source": [
    "# loading saved model\n",
    "net = Net()\n",
    "net.load_state_dict(torch.load('./cifar_net_gauss.pth'))\n",
    "\n",
    "# Testing against above images\n",
    "outputs = net(images)\n",
    "\n",
    "_, predicted = torch.max(outputs, 1)\n",
    "\n",
    "print('Predicted: ', ' '.join(f'{testset.classes[predicted[j]]:5s}'\n",
    "                              for j in range(BATCH_SIZE)))"
   ]
  },
  {
   "cell_type": "code",
   "execution_count": 164,
   "id": "7804ae50",
   "metadata": {},
   "outputs": [
    {
     "name": "stdout",
     "output_type": "stream",
     "text": [
      "Accuracy of the network on the test images: 20 %\n"
     ]
    }
   ],
   "source": [
    "# Now test on entire dataset\n",
    "correct = 0 \n",
    "total = 0\n",
    "\n",
    "with torch.no_grad():\n",
    "    for data in testloader:\n",
    "        images, labels = data\n",
    "        outputs = net(images)\n",
    "        \n",
    "        # Pick class with highest similarity score\n",
    "        _, predicted = torch.max(outputs.data, 1)\n",
    "        total += labels.size(0)\n",
    "        correct += (predicted == labels).sum().item()\n",
    "        \n",
    "print(f'Accuracy of the network on the test images: {100 * correct // total} %')"
   ]
  },
  {
   "cell_type": "code",
   "execution_count": 165,
   "id": "a645c6a3",
   "metadata": {},
   "outputs": [
    {
     "name": "stdout",
     "output_type": "stream",
     "text": [
      "Accuracy for class: plane is 0.0 %\n",
      "Accuracy for class: car   is 0.0 %\n",
      "Accuracy for class: bird  is 0.0 %\n",
      "Accuracy for class: cat   is 60.0 %\n",
      "Accuracy for class: deer  is 40.0 %\n",
      "Accuracy for class: dog   is 0.0 %\n",
      "Accuracy for class: frog  is 40.0 %\n",
      "Accuracy for class: horse is 10.0 %\n",
      "Accuracy for class: ship  is 30.0 %\n",
      "Accuracy for class: truck is 20.0 %\n"
     ]
    }
   ],
   "source": [
    "# Breakdown\n",
    "correct_pred = {classname: 0 for classname in classes}\n",
    "total_pred = {classname: 0 for classname in classes}\n",
    "\n",
    "with torch.no_grad():\n",
    "    for data in testloader:\n",
    "        images, labels = data\n",
    "        outputs = net(images)\n",
    "        _, predictions = torch.max(outputs, 1)\n",
    "        # collect the correct predictions for each class\n",
    "        for label, prediction in zip(labels, predictions):\n",
    "            if label == prediction:\n",
    "                correct_pred[classes[label]] += 1\n",
    "            total_pred[classes[label]] += 1\n",
    "\n",
    "\n",
    "# print accuracy for each class\n",
    "for classname, correct_count in correct_pred.items():\n",
    "    accuracy = 100 * float(correct_count) / total_pred[classname]\n",
    "    print(f'Accuracy for class: {classname:5s} is {accuracy:.1f} %')"
   ]
  }
 ],
 "metadata": {
  "kernelspec": {
   "display_name": "Python 3 (ipykernel)",
   "language": "python",
   "name": "python3"
  },
  "language_info": {
   "codemirror_mode": {
    "name": "ipython",
    "version": 3
   },
   "file_extension": ".py",
   "mimetype": "text/x-python",
   "name": "python",
   "nbconvert_exporter": "python",
   "pygments_lexer": "ipython3",
   "version": "3.11.4"
  }
 },
 "nbformat": 4,
 "nbformat_minor": 5
}
