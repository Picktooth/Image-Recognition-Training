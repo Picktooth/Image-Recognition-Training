{
 "cells": [
  {
   "cell_type": "markdown",
   "id": "1f4536e4-94d5-4cf2-88df-c6956c566478",
   "metadata": {},
   "source": [
    "# NN Practice on CIFAR Dataset"
   ]
  },
  {
   "cell_type": "code",
   "execution_count": null,
   "id": "46756a0b-f49a-4ee5-a882-3fa0dd5d7daa",
   "metadata": {},
   "outputs": [],
   "source": []
  },
  {
   "cell_type": "markdown",
   "id": "eb6849df-b739-41af-88e2-a154fe25822c",
   "metadata": {
    "tags": []
   },
   "source": [
    "## Importing Libraries"
   ]
  },
  {
   "cell_type": "code",
   "execution_count": 1,
   "id": "fdd65b07-86c0-4006-a51a-c212231ed729",
   "metadata": {},
   "outputs": [
    {
     "name": "stdout",
     "output_type": "stream",
     "text": [
      "Success\n"
     ]
    }
   ],
   "source": [
    "# Basics\n",
    "import torch\n",
    "import torchvision\n",
    "import torchvision.transforms as transforms\n",
    "import numpy as np\n",
    "\n",
    "# For CNN\n",
    "import torch.nn as nn\n",
    "import torch.nn.functional as F\n",
    "\n",
    "# For Loss Func. And Optimization\n",
    "import torch.optim as optim\n",
    "\n",
    "# For Visual Representation\n",
    "import matplotlib.pyplot as plt\n",
    "\n",
    "print(\"Success\")"
   ]
  },
  {
   "cell_type": "markdown",
   "id": "9f57a830-8e7c-4fa7-8e4d-4ed41c87744f",
   "metadata": {},
   "source": [
    "## Setup Dataset"
   ]
  },
  {
   "cell_type": "code",
   "execution_count": 2,
   "id": "df05ce20-b8d7-4a9e-9e8d-9efbc8190bf0",
   "metadata": {
    "tags": []
   },
   "outputs": [
    {
     "name": "stdout",
     "output_type": "stream",
     "text": [
      "Files already downloaded and verified\n",
      "Files already downloaded and verified\n",
      "Success\n"
     ]
    }
   ],
   "source": [
    "transform = transforms.Compose(\n",
    "    [transforms.ToTensor(),\n",
    "     transforms.Normalize((0.5, 0.5, 0.5), (0.5, 0.5, 0.5))])\n",
    "\n",
    "# Number of samples processed before updating model\n",
    "batch_size = 4 \n",
    "\n",
    "trainset = torchvision.datasets.CIFAR10(root='./data', train=True,\n",
    "                                        download=True, transform=transform)\n",
    "trainloader = torch.utils.data.DataLoader(trainset, batch_size=batch_size,\n",
    "                                          shuffle=True, num_workers=4)\n",
    "\n",
    "testset = torchvision.datasets.CIFAR10(root='./data', train=False,\n",
    "                                       download=True, transform=transform)\n",
    "testloader = torch.utils.data.DataLoader(testset, batch_size=batch_size,\n",
    "                                         shuffle=False, num_workers=4)\n",
    "# Image Categories\n",
    "classes = ('plane', 'car', 'bird', 'cat',\n",
    "           'deer', 'dog', 'frog', 'horse', 'ship', 'truck') \n",
    "\n",
    "print(\"Success\")"
   ]
  },
  {
   "cell_type": "code",
   "execution_count": 12,
   "id": "a68501e9-69ed-4ba4-b514-fbbab2bbc3de",
   "metadata": {
    "tags": []
   },
   "outputs": [
    {
     "data": {
      "image/png": "[encoded data removed]",
      "text/plain": [
       "<Figure size 640x480 with 1 Axes>"
      ]
     },
     "metadata": {},
     "output_type": "display_data"
    },
    {
     "name": "stdout",
     "output_type": "stream",
     "text": [
      "cat   deer  bird  car  \n"
     ]
    }
   ],
   "source": [
    "# Show image\n",
    "def imshow(img):\n",
    "    img = img / 2 + 0.5     # Unnormalize\n",
    "    npimg = img.numpy()\n",
    "    plt.imshow(np.transpose(npimg, (1, 2, 0)))\n",
    "    plt.show()\n",
    "    \n",
    "# Randomly selected training img\n",
    "dataiter = iter(trainloader)\n",
    "images, labels = next(dataiter)\n",
    "\n",
    "# show images\n",
    "imshow(torchvision.utils.make_grid(images))\n",
    "\n",
    "# print labels\n",
    "print(' '.join(f'{classes[labels[j]]:5s}' for j in range(batch_size)))"
   ]
  },
  {
   "cell_type": "markdown",
   "id": "5269d8f4-7302-4b00-874b-eac8ae3f8da0",
   "metadata": {},
   "source": [
    "## Setup CNN"
   ]
  },
  {
   "cell_type": "code",
   "execution_count": 3,
   "id": "93c99290-df7e-4f61-b705-0f1e66701743",
   "metadata": {
    "tags": []
   },
   "outputs": [],
   "source": [
    "class Net(nn.Module):\n",
    "    \n",
    "    # Defining a network\n",
    "    def __init__(self):\n",
    "        super().__init__()\n",
    "        self.conv1 = nn.Conv2d(3, 10, 5) #Change argument 2 to experiment, must match argument 1 of conv 2\n",
    "        self.pool = nn.MaxPool2d(2, 2)\n",
    "        self.conv2 = nn.Conv2d(10, 16, 5) #Change argument 1 to experiment, must match argument 2 of conv 1\n",
    "        self.fc1 = nn.Linear(16 * 5 * 5, 120)\n",
    "        self.fc2 = nn.Linear(120, 84)\n",
    "        self.fc3 = nn.Linear(84, 10)\n",
    "        \n",
    "    # Defining forward pass\n",
    "    def forward(self, x):\n",
    "        x = self.pool(F.relu(self.conv1(x)))\n",
    "        x = self.pool(F.relu(self.conv2(x)))\n",
    "        x = torch.flatten(x, 1) # flatten all dimensions except batch\n",
    "        x = F.relu(self.fc1(x))\n",
    "        x = F.relu(self.fc2(x))\n",
    "        x = self.fc3(x)\n",
    "        return x\n",
    "    \n",
    "net = Net()"
   ]
  },
  {
   "cell_type": "code",
   "execution_count": 4,
   "metadata": {},
   "outputs": [],
   "source": [
    "class MoreComplexNet(nn.Module):\n",
    "    def __init__(self):\n",
    "        super(MoreComplexNet, self).__init__()\n",
    "        self.conv1 = nn.Conv2d(3, 32, 3, padding=1)\n",
    "        self.conv2 = nn.Conv2d(32, 64, 3, padding=1)\n",
    "        self.pool = nn.MaxPool2d(2, 2)\n",
    "        self.fc1 = nn.Linear(64 * 8 * 8, 256)\n",
    "        self.fc2 = nn.Linear(256, 128)\n",
    "        self.fc3 = nn.Linear(128, 10)\n",
    "\n",
    "    def forward(self, x):\n",
    "        x = self.pool(F.relu(self.conv1(x)))\n",
    "        x = self.pool(F.relu(self.conv2(x)))\n",
    "        x = x.view(-1, 64 * 8 * 8)\n",
    "        x = F.relu(self.fc1(x))\n",
    "        x = F.relu(self.fc2(x))\n",
    "        x = self.fc3(x)\n",
    "        return x\n",
    "\n",
    "net = MoreComplexNet()"
   ]
  },
  {
   "cell_type": "code",
   "execution_count": 8,
   "id": "3c9ad037-719b-42e3-aefa-cc63eaf6792b",
   "metadata": {
    "tags": []
   },
   "outputs": [],
   "source": [
    "# Setting up loss func. and optim\n",
    "criterion = nn.CrossEntropyLoss()\n",
    "optimizer = optim.SGD(net.parameters(), lr = .001, momentum = 0.9)"
   ]
  },
  {
   "cell_type": "markdown",
   "id": "671be753-aea1-4c4d-a2bb-fadfb97a419b",
   "metadata": {},
   "source": [
    "## Training"
   ]
  },
  {
   "cell_type": "code",
   "execution_count": 9,
   "metadata": {},
   "outputs": [
    {
     "name": "stdout",
     "output_type": "stream",
     "text": [
      "Available\n",
      "\n",
      "[1,  2000] loss: 1.618\n",
      "[1,  4000] loss: 1.485\n",
      "[1,  6000] loss: 1.444\n",
      "[1,  8000] loss: 1.404\n",
      "[1, 10000] loss: 1.374\n",
      "[1, 12000] loss: 1.373\n",
      "Epoch 1, Training Loss: 0.053, Validation Loss: 1.2400492766410112, Validation Accuracy: 55.71%\n",
      "\n",
      "[2,  2000] loss: 1.232\n",
      "[2,  4000] loss: 1.245\n",
      "[2,  6000] loss: 1.206\n",
      "[2,  8000] loss: 1.223\n",
      "[2, 10000] loss: 1.202\n",
      "[2, 12000] loss: 1.209\n",
      "Epoch 2, Training Loss: 0.049, Validation Loss: 1.069959378376603, Validation Accuracy: 62.27%\n",
      "\n",
      "[3,  2000] loss: 1.089\n",
      "[3,  4000] loss: 1.069\n",
      "[3,  6000] loss: 1.092\n",
      "[3,  8000] loss: 1.067\n",
      "[3, 10000] loss: 1.070\n",
      "[3, 12000] loss: 1.072\n",
      "Epoch 3, Training Loss: 0.042, Validation Loss: 0.9469719630509615, Validation Accuracy: 66.22%\n",
      "\n",
      "[4,  2000] loss: 0.932\n",
      "[4,  4000] loss: 0.944\n",
      "[4,  6000] loss: 0.958\n",
      "[4,  8000] loss: 0.959\n",
      "[4, 10000] loss: 0.959\n",
      "[4, 12000] loss: 0.971\n",
      "Epoch 4, Training Loss: 0.039, Validation Loss: 0.834315730712004, Validation Accuracy: 70.22%\n",
      "\n",
      "[5,  2000] loss: 0.838\n",
      "[5,  4000] loss: 0.835\n",
      "[5,  6000] loss: 0.832\n",
      "[5,  8000] loss: 0.851\n",
      "[5, 10000] loss: 0.867\n",
      "[5, 12000] loss: 0.852\n",
      "Epoch 5, Training Loss: 0.032, Validation Loss: 0.7205954804988578, Validation Accuracy: 74.70%\n",
      "\n",
      "Training Complete\n"
     ]
    }
   ],
   "source": [
    "from sklearn.model_selection import train_test_split\n",
    "\n",
    "# Split dataset into train and validation sets\n",
    "train_set, val_set = train_test_split(trainset, test_size=0.2, random_state=42)\n",
    "\n",
    "# Dataloader for validation set\n",
    "valloader = torch.utils.data.DataLoader(val_set, batch_size=4, shuffle=False, num_workers=2)\n",
    "\n",
    "\n",
    "# Set up CUDA\n",
    "# Setting up CUDA Device\n",
    "if torch.cuda.is_available():\n",
    "    print(\"Available\")\n",
    "    device = torch.device(\"cuda\")\n",
    "    print(\"\")\n",
    "\n",
    "net.to(device)\n",
    "\n",
    "\n",
    "for epoch in range(5): # looping over dataset\n",
    "    \n",
    "    running_loss = 0.0\n",
    "    \n",
    "    # Training phase\n",
    "    net.train()\n",
    "\n",
    "    for i, data in enumerate(trainloader, 0):\n",
    "        # get inputs\n",
    "        inputs, labels = data[0].to(device), data[1].to(device)\n",
    "        \n",
    "        optimizer.zero_grad()\n",
    "        outputs = net(inputs)\n",
    "        loss = criterion(outputs,labels)\n",
    "        loss.backward()\n",
    "        optimizer.step()\n",
    "        \n",
    "        # return statistics\n",
    "        running_loss += loss.item()\n",
    "        if i % 2000 == 1999:\n",
    "            print(f'[{epoch + 1}, {i + 1:5d}] loss: {running_loss / 2000:.3f}')\n",
    "            running_loss = 0.0\n",
    "            \n",
    "    # Validation phase\n",
    "    net.eval()\n",
    "    val_loss = 0.0\n",
    "    val_correct_predictions = 0\n",
    "    val_total_samples = 0\n",
    "    \n",
    "    with torch.no_grad():\n",
    "        for i, data in enumerate(valloader, 0):\n",
    "            inputs, labels = data[0].to(device), data[1].to(device)\n",
    "            outputs = net(inputs)\n",
    "            loss = criterion(outputs, labels)\n",
    "            val_loss += loss.item()\n",
    "\n",
    "            # calculate accuracy for validation\n",
    "            _, predicted = torch.max(outputs.data, 1)\n",
    "            val_total_samples += labels.size(0)\n",
    "            val_correct_predictions += (predicted == labels).sum().item()\n",
    "\n",
    "    val_accuracy = val_correct_predictions / val_total_samples\n",
    "    \n",
    "    # Print loss and accuracy per epoch for both training and validation\n",
    "    print(f'Epoch {epoch + 1}, Training Loss: {running_loss / len(trainloader):.3f}, Validation Loss: {val_loss / len(valloader)}, Validation Accuracy: {val_accuracy:.2%}')\n",
    "    print(\"\")\n",
    "    \n",
    "print(\"Training Complete\")"
   ]
  },
  {
   "cell_type": "markdown",
   "id": "68c28659-c9fb-4e8e-9dbc-e95dd12e3037",
   "metadata": {},
   "source": [
    "## Saving Model"
   ]
  },
  {
   "cell_type": "code",
   "execution_count": 10,
   "id": "9dc0332e-e453-4cc9-a174-7cfd4eaf7e47",
   "metadata": {
    "tags": []
   },
   "outputs": [],
   "source": [
    "PATH = './Models/cifar_net_Validation.pth'\n",
    "torch.save(net.state_dict(), PATH)"
   ]
  },
  {
   "cell_type": "markdown",
   "id": "0d8014c6-4e9d-4197-bda2-becd02ef24e5",
   "metadata": {},
   "source": [
    "## Testing Data"
   ]
  },
  {
   "cell_type": "code",
   "execution_count": 17,
   "id": "cf420b9b-1e04-4cf2-afe0-930a873cf64a",
   "metadata": {
    "tags": []
   },
   "outputs": [
    {
     "data": {
      "image/png": "[encoded data removed]",
      "text/plain": [
       "<Figure size 640x480 with 1 Axes>"
      ]
     },
     "metadata": {},
     "output_type": "display_data"
    },
    {
     "name": "stdout",
     "output_type": "stream",
     "text": [
      "Truth:  cat   ship  ship  plane\n"
     ]
    }
   ],
   "source": [
    "dataiter = iter(testloader)\n",
    "images, labels = next(dataiter)\n",
    "\n",
    "# show img from test set\n",
    "imshow(torchvision.utils.make_grid(images))\n",
    "print('Truth: ', ' '.join(f'{classes[labels[j]]:5s}' for j in range(batch_size)))"
   ]
  },
  {
   "cell_type": "code",
   "execution_count": 18,
   "id": "482e287a-d919-4e91-a7ba-bba5d8e69c39",
   "metadata": {
    "tags": []
   },
   "outputs": [
    {
     "name": "stdout",
     "output_type": "stream",
     "text": [
      "Predicted:  dog   car   ship  deer \n"
     ]
    }
   ],
   "source": [
    "# loading saved model\n",
    "net = MoreComplexNet()\n",
    "net.load_state_dict(torch.load('./Models/cifar_net_validation.pth'))\n",
    "\n",
    "# Testing against above images\n",
    "outputs = net(images)\n",
    "\n",
    "_, predicted = torch.max(outputs, 1)\n",
    "\n",
    "print('Predicted: ', ' '.join(f'{classes[predicted[j]]:5s}'\n",
    "                              for j in range(batch_size)))"
   ]
  },
  {
   "cell_type": "code",
   "execution_count": 19,
   "id": "817a1993-04fe-4076-bac4-9f24436b5c9c",
   "metadata": {
    "tags": []
   },
   "outputs": [
    {
     "name": "stdout",
     "output_type": "stream",
     "text": [
      "Accuracy of the network on the 10000 test images: 57 %\n"
     ]
    }
   ],
   "source": [
    "# Now test on entire dataset\n",
    "correct = 0 \n",
    "total = 0\n",
    "\n",
    "with torch.no_grad():\n",
    "    for data in testloader:\n",
    "        images, labels = data\n",
    "        outputs = net(images)\n",
    "        \n",
    "        # Pick class with highest similarity score\n",
    "        _, predicted = torch.max(outputs.data, 1)\n",
    "        total += labels.size(0)\n",
    "        correct += (predicted == labels).sum().item()\n",
    "        \n",
    "print(f'Accuracy of the network on the 10000 test images: {100 * correct // total} %')"
   ]
  },
  {
   "cell_type": "code",
   "execution_count": 20,
   "id": "f23a4cbb-6248-4abb-85b8-827020a528aa",
   "metadata": {
    "tags": []
   },
   "outputs": [
    {
     "name": "stdout",
     "output_type": "stream",
     "text": [
      "Accuracy for class: plane is 67.7 %\n",
      "Accuracy for class: car   is 71.4 %\n",
      "Accuracy for class: bird  is 44.4 %\n",
      "Accuracy for class: cat   is 44.4 %\n",
      "Accuracy for class: deer  is 45.6 %\n",
      "Accuracy for class: dog   is 46.8 %\n",
      "Accuracy for class: frog  is 64.1 %\n",
      "Accuracy for class: horse is 66.5 %\n",
      "Accuracy for class: ship  is 66.9 %\n",
      "Accuracy for class: truck is 57.6 %\n"
     ]
    }
   ],
   "source": [
    "# Breakdown\n",
    "correct_pred = {classname: 0 for classname in classes}\n",
    "total_pred = {classname: 0 for classname in classes}\n",
    "\n",
    "with torch.no_grad():\n",
    "    for data in testloader:\n",
    "        images, labels = data\n",
    "        outputs = net(images)\n",
    "        _, predictions = torch.max(outputs, 1)\n",
    "        # collect the correct predictions for each class\n",
    "        for label, prediction in zip(labels, predictions):\n",
    "            if label == prediction:\n",
    "                correct_pred[classes[label]] += 1\n",
    "            total_pred[classes[label]] += 1\n",
    "\n",
    "\n",
    "# print accuracy for each class\n",
    "for classname, correct_count in correct_pred.items():\n",
    "    accuracy = 100 * float(correct_count) / total_pred[classname]\n",
    "    print(f'Accuracy for class: {classname:5s} is {accuracy:.1f} %')"
   ]
  },
  {
   "cell_type": "code",
   "execution_count": 21,
   "metadata": {},
   "outputs": [],
   "source": [
    "def write_accuracy_to_file(filename, correct, total, correct_pred, total_pred):\n",
    "    # Open the specified text file in write mode\n",
    "    with open(filename, 'w') as file:\n",
    "        # Write overall accuracy to the file\n",
    "        file.write(f'Total Epochs: {5}\\n\\n')\n",
    "        file.write(f'Accuracy of the network on the 10000 test images: {100 * correct // total} %\\n\\n')\n",
    "\n",
    "        # Write accuracy for each class to the file\n",
    "        for classname, correct_count in correct_pred.items():\n",
    "            accuracy = 100 * float(correct_count) / total_pred[classname]\n",
    "            file.write(f'Accuracy for class: {classname:5s} is {accuracy:.1f} %\\n')\n"
   ]
  },
  {
   "cell_type": "code",
   "execution_count": 22,
   "metadata": {},
   "outputs": [],
   "source": [
    "# Provide a filename (e.g., 'my_accuracy_results.txt') as an argument\n",
    "write_accuracy_to_file('cifar_net_validation_accuracy.txt', correct, total, correct_pred, total_pred)"
   ]
  },
  {
   "cell_type": "code",
   "execution_count": null,
   "metadata": {},
   "outputs": [],
   "source": []
  }
 ],
 "metadata": {
  "kernelspec": {
   "display_name": "Python 3 (ipykernel)",
   "language": "python",
   "name": "python3"
  },
  "language_info": {
   "codemirror_mode": {
    "name": "ipython",
    "version": 3
   },
   "file_extension": ".py",
   "mimetype": "text/x-python",
   "name": "python",
   "nbconvert_exporter": "python",
   "pygments_lexer": "ipython3",
   "version": "3.11.4"
  }
 },
 "nbformat": 4,
 "nbformat_minor": 5
}
