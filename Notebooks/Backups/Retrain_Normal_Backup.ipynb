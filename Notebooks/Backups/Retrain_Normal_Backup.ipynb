{
 "cells": [
  {
   "cell_type": "code",
   "execution_count": 7,
   "metadata": {},
   "outputs": [
    {
     "name": "stdout",
     "output_type": "stream",
     "text": [
      "Success\n"
     ]
    }
   ],
   "source": [
    "# Basics\n",
    "import torch\n",
    "import torchvision\n",
    "import torchvision.transforms as transforms\n",
    "import torchvision.datasets\n",
    "import numpy as np\n",
    "import cv2\n",
    "import copy\n",
    "# Adding noise\n",
    "from skimage.util import random_noise\n",
    "from torchvision.utils import save_image\n",
    "from torch.utils.data import DataLoader\n",
    "\n",
    "# For CNN\n",
    "import torch.nn as nn\n",
    "import torch.nn.functional as F\n",
    "\n",
    "# For Loss Func. And Optimization\n",
    "import torch.optim as optim\n",
    "\n",
    "# For Visual Representation\n",
    "import matplotlib.pyplot as plt\n",
    "\n",
    "# In case defined class doesn't work, create new dataset from this\n",
    "from torchvision.datasets import ImageFolder as img_fold\n",
    "\n",
    "print(\"Success\")"
   ]
  },
  {
   "cell_type": "code",
   "execution_count": 112,
   "metadata": {},
   "outputs": [
    {
     "name": "stdout",
     "output_type": "stream",
     "text": [
      "Available\n",
      "\n"
     ]
    }
   ],
   "source": [
    "TRAIN_NOISE = True\n",
    "TEST_NOISE = False\n",
    "BATCH_SIZE = 4\n",
    "NUM_CLASSES = 10\n",
    "EPOCHS = 5\n",
    "\n",
    "if torch.cuda.is_available():\n",
    "    print(\"Available\")\n",
    "    device = torch.device(\"cuda\")\n",
    "    print(\"\")\n",
    "# normalizer\n",
    "transformer = transforms.Compose([transforms.ToTensor(),transforms.Normalize((0.5, 0.5, 0.5), (0.5, 0.5, 0.5))])"
   ]
  },
  {
   "cell_type": "code",
   "execution_count": 71,
   "metadata": {},
   "outputs": [],
   "source": [
    "# Setting root directory for training data\n",
    "trainroot = \"./CNN_Dataset/Level 1\"\n",
    "testroot = \"./Noiseimg/test\"\n",
    "# Using ImageFolder to designate and transform our entire dataset (determine if necessary to transform here and in dataloaders)\n",
    "trainset = img_fold(root=trainroot, transform=transformer)\n",
    "testset = img_fold(root=testroot, transform=transformer)"
   ]
  },
  {
   "cell_type": "code",
   "execution_count": 72,
   "metadata": {},
   "outputs": [
    {
     "name": "stdout",
     "output_type": "stream",
     "text": [
      "Labels:  ['bird', 'car', 'cat', 'deer', 'dog', 'frog', 'horse', 'plane', 'ship', 'truck']\n",
      "Trainset Length:  5000\n",
      "Testset Length:  101\n"
     ]
    }
   ],
   "source": [
    "# Image Categories\n",
    "classes = ('plane', 'car', 'bird', 'cat',\n",
    "           'deer', 'dog', 'frog', 'horse', 'ship', 'truck') \n",
    "\n",
    "# grabbing labels\n",
    "class_names = trainset.classes\n",
    "print('Labels: ',class_names)\n",
    "print('Trainset Length: ', len(trainset))\n",
    "print('Testset Length: ', len(testset))"
   ]
  },
  {
   "cell_type": "code",
   "execution_count": 27,
   "metadata": {},
   "outputs": [
    {
     "name": "stdout",
     "output_type": "stream",
     "text": [
      "Image tensor:\n",
      "tensor([[[-1.0000, -1.0000, -1.0000,  ..., -0.9529, -0.8118, -1.0000],\n",
      "         [-1.0000, -1.0000, -1.0000,  ..., -0.8824, -0.8667, -1.0000],\n",
      "         [-1.0000, -1.0000, -1.0000,  ..., -1.0000, -1.0000, -1.0000],\n",
      "         ...,\n",
      "         [-0.6863, -0.3804,  0.0824,  ..., -0.8745, -1.0000, -0.8588],\n",
      "         [-0.9922, -0.9294, -1.0000,  ..., -0.5608, -1.0000, -1.0000],\n",
      "         [-0.6706, -0.6471, -1.0000,  ..., -1.0000, -0.7647, -0.7647]],\n",
      "\n",
      "        [[-1.0000, -1.0000, -1.0000,  ..., -1.0000, -1.0000, -1.0000],\n",
      "         [-1.0000, -1.0000, -1.0000,  ..., -1.0000, -1.0000, -1.0000],\n",
      "         [-1.0000, -1.0000, -1.0000,  ..., -1.0000, -1.0000, -1.0000],\n",
      "         ...,\n",
      "         [-1.0000, -0.9216, -0.2627,  ..., -0.9373, -1.0000, -1.0000],\n",
      "         [-1.0000, -0.9216, -1.0000,  ..., -1.0000, -1.0000, -1.0000],\n",
      "         [-0.9843, -0.9608, -1.0000,  ..., -1.0000, -1.0000, -1.0000]],\n",
      "\n",
      "        [[-1.0000, -1.0000, -1.0000,  ..., -1.0000, -1.0000, -1.0000],\n",
      "         [-1.0000, -1.0000, -1.0000,  ..., -1.0000, -1.0000, -1.0000],\n",
      "         [-1.0000, -1.0000, -1.0000,  ..., -1.0000, -1.0000, -1.0000],\n",
      "         ...,\n",
      "         [-0.8824, -0.7804, -0.4667,  ..., -1.0000, -1.0000, -1.0000],\n",
      "         [-0.7882, -0.8431, -1.0000,  ..., -1.0000, -1.0000, -1.0000],\n",
      "         [-0.7569, -0.1529, -1.0000,  ..., -1.0000, -1.0000, -1.0000]]])\n",
      "Image shape: torch.Size([3, 32, 32])\n",
      "Image datatype: torch.float32\n",
      "Image label: 0\n",
      "Label datatype: <class 'int'>\n"
     ]
    }
   ],
   "source": [
    "# Storing tensors for images and labels\n",
    "img, label = trainset[0][0], trainset[0][1]\n",
    "print(f\"Image tensor:\\n{img}\")\n",
    "print(f\"Image shape: {img.shape}\")\n",
    "print(f\"Image datatype: {img.dtype}\")\n",
    "print(f\"Image label: {label}\")\n",
    "print(f\"Label datatype: {type(label)}\")"
   ]
  },
  {
   "cell_type": "code",
   "execution_count": 73,
   "metadata": {},
   "outputs": [],
   "source": [
    "trainloader = torch.utils.data.DataLoader(trainset, batch_size=BATCH_SIZE,\n",
    "                                            shuffle=True, num_workers=2)\n",
    "\n",
    "testloader =torch.utils.data.DataLoader(testset, batch_size = BATCH_SIZE,\n",
    "                                            shuffle=True, num_workers=2)"
   ]
  },
  {
   "cell_type": "code",
   "execution_count": 74,
   "metadata": {},
   "outputs": [
    {
     "data": {
      "image/png": "[encoded data removed]",
      "text/plain": [
       "<Figure size 640x480 with 1 Axes>"
      ]
     },
     "metadata": {},
     "output_type": "display_data"
    },
    {
     "name": "stdout",
     "output_type": "stream",
     "text": [
      "plane dog   ship  truck\n"
     ]
    }
   ],
   "source": [
    "# Show image\n",
    "def imshow(img):\n",
    "    img = img / 2 + 0.5     # Unnormalize\n",
    "    npimg = img.numpy()\n",
    "    plt.imshow(np.transpose(npimg, (1, 2, 0)))\n",
    "    plt.show()\n",
    "    \n",
    "# Randomly selected training img\n",
    "dataiter = iter(trainloader)\n",
    "images, labels = next(dataiter)\n",
    "\n",
    "# show images\n",
    "imshow(torchvision.utils.make_grid(images))\n",
    "\n",
    "# print labels\n",
    "print(' '.join(f'{trainset.classes[labels[j]]:5s}' for j in range(BATCH_SIZE)))"
   ]
  },
  {
   "cell_type": "code",
   "execution_count": 75,
   "metadata": {},
   "outputs": [
    {
     "name": "stdout",
     "output_type": "stream",
     "text": [
      "Image shape: torch.Size([3, 32, 32]) -> [batch_size, color_channels, height, width]\n",
      "Label shape: torch.Size([4])\n"
     ]
    }
   ],
   "source": [
    "print(f\"Image shape: {img.shape} -> [batch_size, color_channels, height, width]\")\n",
    "print(f\"Label shape: {labels.shape}\")"
   ]
  },
  {
   "cell_type": "code",
   "execution_count": 133,
   "metadata": {},
   "outputs": [],
   "source": [
    "# Training Function\n",
    "def train_model(model, trainloader, criterion, optimizer, device, epochs):\n",
    "    \n",
    "    \"\"\"\n",
    "    Train the model on the training data.\n",
    "\n",
    "    Args:\n",
    "        model (nn.Module): The neural network model.\n",
    "        trainloader (DataLoader): DataLoader for the training dataset.\n",
    "        criterion: The loss criterion.\n",
    "        optimizer: The optimization algorithm.\n",
    "        device: The device to which the model and data should be moved (e.g., \"cuda\" or \"cpu\").\n",
    "        epochs (int): Number of epochs for training.\n",
    "    \"\"\"\n",
    "    \n",
    "    model.to(device)\n",
    "    model.train()\n",
    "    \n",
    "    for epoch in range(epochs):\n",
    "        running_loss = 0.0\n",
    "        correct_train = 0\n",
    "        total_train = 0\n",
    "\n",
    "        for images, labels in trainloader:\n",
    "            images, labels = images.to(device), labels.to(device)\n",
    "\n",
    "            optimizer.zero_grad()\n",
    "            outputs = model(images)\n",
    "            loss = criterion(outputs, labels)\n",
    "            loss.backward()\n",
    "            optimizer.step()\n",
    "\n",
    "            running_loss += loss.item()\n",
    "            _, predicted = torch.max(outputs.data, 1)\n",
    "            total_train += labels.size(0)\n",
    "            correct_train += (predicted == labels).sum().item()\n",
    "\n",
    "        train_accuracy = correct_train / total_train\n",
    "\n",
    "        print(f'Epoch {epoch + 1}, Training Loss: {running_loss / len(trainloader):.3f}, Training Accuracy: {100 * train_accuracy:.2f}%')\n",
    "\n",
    "    print(\"Training Complete\")\n",
    "    \n",
    "# Test Function\n",
    "def test_model(model, model_name, testloader, device):\n",
    "    \n",
    "    \"\"\"\n",
    "    Test the model on the entire dataset and store statistics.\n",
    "\n",
    "    Args:\n",
    "        model (nn.Module): The neural network model.\n",
    "        model_name: Name of the neural network model. Used in storing statistics\n",
    "        testloader (DataLoader): DataLoader for the test dataset.\n",
    "        device: The device to which the model and data should be moved (e.g., \"cuda\" or \"cpu\").\n",
    "\n",
    "    \"\"\"\n",
    "    model.to(device)\n",
    "    model.eval()\n",
    "    \n",
    "    correct = 0 \n",
    "    total = 0\n",
    "    \n",
    "    correct_pred = {classname: 0 for classname in classes}\n",
    "    total_pred = {classname: 0 for classname in classes}\n",
    "\n",
    "    with torch.no_grad():\n",
    "        for data in testloader:\n",
    "            images, labels = data\n",
    "            images, labels = images.to(device), labels.to(device)\n",
    "            \n",
    "            outputs = model(images)\n",
    "            \n",
    "            # Pick class with highest similarity score\n",
    "            _, predicted = torch.max(outputs.data, 1)\n",
    "            total += labels.size(0)\n",
    "            correct += (predicted == labels).sum().item()\n",
    "            \n",
    "    print(f'Accuracy of the network on the 10000 test images: {100 * correct // total} %\\n')\n",
    "    \n",
    "\n",
    "    with torch.no_grad():\n",
    "        for data in testloader:\n",
    "            images, labels = data\n",
    "            images, labels = images.to(device), labels.to(device)\n",
    "            \n",
    "            outputs = model(images)\n",
    "            _, predictions = torch.max(outputs, 1)\n",
    "            \n",
    "            # collect the correct predictions for each class\n",
    "            for label, prediction in zip(labels, predictions):\n",
    "                if label == prediction:\n",
    "                    correct_pred[classes[label]] += 1\n",
    "                total_pred[classes[label]] += 1\n",
    "\n",
    "\n",
    "    # print accuracy for each class\n",
    "    for classname, correct_count in correct_pred.items():\n",
    "        accuracy = 100 * float(correct_count) / total_pred[classname]\n",
    "        print(f'Accuracy for class: {classname:5s} is {accuracy:.1f} %')\n",
    "        \n",
    "    # store statistics\n",
    "    write_accuracy_to_file(f'{model_name}_accuracy.txt', model_name, correct, total, correct_pred, total_pred, EPOCHS)\n",
    "    \n",
    "\n",
    "def write_accuracy_to_file(filename, model_name, correct, total, correct_pred, total_pred, epochs):\n",
    "\n",
    "    \"\"\"\n",
    "    Store model statistics. Designed to be called within test_model function\n",
    "    \"\"\"\n",
    "    # Open the specified text file in write mode\n",
    "    with open(filename, 'w') as file:\n",
    "        # Write overall accuracy to the file\n",
    "        file.write(f'Model: {model_name}\\n\\n')\n",
    "        file.write(f'Total Epochs: {epochs}\\n\\n')\n",
    "        file.write(f'Accuracy of the network on the 10000 test images: {100 * correct // total} %\\n\\n')\n",
    "\n",
    "        # Write accuracy for each class to the file\n",
    "        for classname, correct_count in correct_pred.items():\n",
    "            accuracy = 100 * float(correct_count) / total_pred[classname]\n",
    "            file.write(f'Accuracy for class: {classname:5s} is {accuracy:.1f} %\\n')\n",
    "            \n",
    "def save_model(model, name):\n",
    "    PATH = fr\"./Models/{name}\"\n",
    "    torch.save(model, PATH)"
   ]
  },
  {
   "cell_type": "code",
   "execution_count": 100,
   "metadata": {},
   "outputs": [],
   "source": [
    "class Net(nn.Module):\n",
    "    def __init__(self):\n",
    "        super(Net, self).__init__()\n",
    "        self.conv1 = nn.Conv2d(3, 32, 3, padding=1)\n",
    "        self.conv2 = nn.Conv2d(32, 64, 3, padding=1)\n",
    "        \n",
    "        # Dropout Layers\n",
    "        self.dropout1 = nn.Dropout(0.5)  \n",
    "\n",
    "        self.pool = nn.MaxPool2d(2, 2)\n",
    "        self.fc1 = nn.Linear(64 * 8 * 8, 256)\n",
    "        self.fc2 = nn.Linear(256, 128)\n",
    "        self.fc3 = nn.Linear(128, 10)\n",
    "\n",
    "    def forward(self, x):\n",
    "        x = self.pool(F.relu(self.conv1(x)))\n",
    "        x = self.pool(F.relu(self.conv2(x)))\n",
    "        x = x.view(-1, 64 * 8 * 8)\n",
    "        \n",
    "        x = F.relu(self.fc1(x))\n",
    "        x = self.dropout1(x)\n",
    "        \n",
    "        x = F.relu(self.fc2(x))\n",
    "\n",
    "        x = self.fc3(x)\n",
    "\n",
    "        return x"
   ]
  },
  {
   "cell_type": "code",
   "execution_count": 101,
   "metadata": {},
   "outputs": [
    {
     "data": {
      "text/plain": [
       "<All keys matched successfully>"
      ]
     },
     "execution_count": 101,
     "metadata": {},
     "output_type": "execute_result"
    }
   ],
   "source": [
    "# Creating new models\n",
    "model_train_level_1 = Net()\n",
    "model_train_val_level_1 = Net()\n",
    "model_train_vc_level_1 = Net()\n",
    "\n",
    "# Copying weights of old models to retrain\n",
    "model_train_level_1.load_state_dict(torch.load('./Models/cifar_net.pth'))\n",
    "model_train_val_level_1.load_state_dict(torch.load('./Models/cifar_net_Validation.pth'))\n",
    "model_train_vc_level_1.load_state_dict(torch.load('./Models/cifar_net_kfold.pth'))"
   ]
  },
  {
   "cell_type": "code",
   "execution_count": 102,
   "metadata": {},
   "outputs": [],
   "source": [
    "# Setting up loss func. and optim\n",
    "criterion = nn.CrossEntropyLoss()\n",
    "optimizer = optim.SGD(model_train_level_1.parameters(), lr = 0.001, momentum = 0.9, weight_decay=.001)"
   ]
  },
  {
   "cell_type": "code",
   "execution_count": 104,
   "metadata": {},
   "outputs": [
    {
     "name": "stdout",
     "output_type": "stream",
     "text": [
      "Available\n",
      "\n",
      "Epoch 1, Training Loss: 2.007, Training Accuracy: 27.82%\n",
      "Epoch 2, Training Loss: 1.562, Training Accuracy: 42.14%\n",
      "Epoch 3, Training Loss: 1.262, Training Accuracy: 54.74%\n",
      "Epoch 4, Training Loss: 1.042, Training Accuracy: 62.52%\n",
      "Epoch 5, Training Loss: 0.888, Training Accuracy: 69.24%\n",
      "Training Complete\n"
     ]
    }
   ],
   "source": [
    "train_model(model_train_level_1, trainloader, criterion, optimizer, device, EPOCHS)"
   ]
  },
  {
   "cell_type": "code",
   "execution_count": 141,
   "metadata": {},
   "outputs": [
    {
     "data": {
      "image/png": "[encoded data removed]",
      "text/plain": [
       "<Figure size 640x480 with 1 Axes>"
      ]
     },
     "metadata": {},
     "output_type": "display_data"
    },
    {
     "name": "stdout",
     "output_type": "stream",
     "text": [
      "Truth:  deer  car   plane frog \n"
     ]
    }
   ],
   "source": [
    "# Testing model on small batch\n",
    "\n",
    "dataiter = iter(testloader)\n",
    "images, labels = next(dataiter)\n",
    "\n",
    "# show img from test set\n",
    "imshow(torchvision.utils.make_grid(images))\n",
    "print('Truth: ', ' '.join(f'{testset.classes[labels[j]]:5s}' for j in range(BATCH_SIZE)))"
   ]
  },
  {
   "cell_type": "code",
   "execution_count": 143,
   "metadata": {},
   "outputs": [
    {
     "name": "stdout",
     "output_type": "stream",
     "text": [
      "Predicted:  plane car   plane horse\n"
     ]
    }
   ],
   "source": [
    "# loading saved model\n",
    "net = Net()\n",
    "net.load_state_dict(torch.load('./Models/Full_Train_Gauss.pth'))\n",
    "\n",
    "# Testing against above images\n",
    "outputs = net(images)\n",
    "\n",
    "_, predicted = torch.max(outputs, 1)\n",
    "\n",
    "print('Predicted: ', ' '.join(f'{testset.classes[predicted[j]]:5s}'\n",
    "                              for j in range(BATCH_SIZE)))"
   ]
  },
  {
   "cell_type": "code",
   "execution_count": 134,
   "metadata": {},
   "outputs": [
    {
     "name": "stdout",
     "output_type": "stream",
     "text": [
      "Accuracy of the network on the 10000 test images: 48 %\n",
      "\n",
      "Accuracy for class: plane is 10.0 %\n",
      "Accuracy for class: car   is 90.0 %\n",
      "Accuracy for class: bird  is 30.0 %\n",
      "Accuracy for class: cat   is 40.0 %\n",
      "Accuracy for class: deer  is 10.0 %\n",
      "Accuracy for class: dog   is 70.0 %\n",
      "Accuracy for class: frog  is 40.0 %\n",
      "Accuracy for class: horse is 40.0 %\n",
      "Accuracy for class: ship  is 90.0 %\n",
      "Accuracy for class: truck is 63.6 %\n"
     ]
    }
   ],
   "source": [
    "# Testing model on entire test test\n",
    "test_model(model_train_level_1, 'model_train_level_1', testloader, device)"
   ]
  },
  {
   "cell_type": "code",
   "execution_count": 139,
   "metadata": {},
   "outputs": [],
   "source": [
    "PATH = './Models/Full_Train_Gauss.pth'\n",
    "torch.save(model_train_level_1.state_dict(), PATH)"
   ]
  }
 ],
 "metadata": {
  "kernelspec": {
   "display_name": "pytorch",
   "language": "python",
   "name": "python3"
  },
  "language_info": {
   "codemirror_mode": {
    "name": "ipython",
    "version": 3
   },
   "file_extension": ".py",
   "mimetype": "text/x-python",
   "name": "python",
   "nbconvert_exporter": "python",
   "pygments_lexer": "ipython3",
   "version": "3.11.4"
  }
 },
 "nbformat": 4,
 "nbformat_minor": 2
}
