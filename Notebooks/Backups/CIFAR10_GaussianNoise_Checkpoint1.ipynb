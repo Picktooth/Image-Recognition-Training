{
 "cells": [
  {
   "cell_type": "code",
   "execution_count": 1,
   "id": "c494733f-00e6-4d91-aeeb-8f4714a6ca34",
   "metadata": {
    "tags": []
   },
   "outputs": [
    {
     "name": "stdout",
     "output_type": "stream",
     "text": [
      "Success\n"
     ]
    }
   ],
   "source": [
    "# Basics\n",
    "import torch\n",
    "import torchvision\n",
    "import torchvision.transforms as transforms\n",
    "import numpy as np\n",
    "import os\n",
    "import cv2\n",
    "# Adding noise\n",
    "from skimage.util import random_noise\n",
    "from torchvision.utils import save_image\n",
    "import argparse\n",
    "\n",
    "# For CNN\n",
    "import torch.nn as nn\n",
    "import torch.nn.functional as F\n",
    "\n",
    "# For Loss Func. And Optimization\n",
    "import torch.optim as optim\n",
    "\n",
    "# For Visual Representation\n",
    "import matplotlib.pyplot as plt\n",
    "\n",
    "print(\"Success\")\n"
   ]
  },
  {
   "cell_type": "code",
   "execution_count": 9,
   "id": "d26b7002-497b-4422-b304-124bce178e5a",
   "metadata": {
    "tags": []
   },
   "outputs": [],
   "source": [
    "# Saves the images set in trainloader // Modify name -- using function to save both normal and noisy images\n",
    "def save_noisy_image(img, name):\n",
    "    if img.size(1) == 3:\n",
    "        img = img.view(img.size(0), 3, 32, 32)\n",
    "        save_image(img, name)\n",
    "    else:\n",
    "        img = img.view(img.size(0), 1, 28, 28)\n",
    "        save_image(img, name)\n",
    "\n",
    "# Apply gaussian noise to the images in trainloader\n",
    "def gaussian_noise():\n",
    "    for i, data in enumerate(trainloader, 0):\n",
    "        \n",
    "        img, _ = data[0], data[1]\n",
    "        dataiter = iter(trainloader)\n",
    "        img, labels = next(dataiter)\n",
    "        \n",
    "        # Saving normal images\n",
    "        save_noisy_image(img, fr\"C:\\Users\\John\\Documents\\Visual Studio Code Python\\Image_Classification_Training\\CIFAR10 Gaussian Noise\\{'dataset'}_normal.png\")\n",
    "        \n",
    "        # Applying noise by reshaping image tensor\n",
    "        noise = torch.tensor(random_noise(img, mode='gaussian', mean=0, var=0.05, clip=True))\n",
    "        gauss_img = img + noise\n",
    "        \n",
    "        # Saving modified image\n",
    "        save_noisy_image(gauss_img, fr\"C:\\Users\\John\\Documents\\Visual Studio Code Python\\Image_Classification_Training\\CIFAR10 Gaussian Noise\\{'dataset'}_gaussian.png\")\n",
    "        \n",
    "        # Grabbing image labels (Truth)\n",
    "        print(' '.join(f'{classes[labels[j]]:5s}' for j in range(batch_size)))\n",
    "        break\n",
    "\n",
    "# Above code works as expected. Figure out how to run across entire CIFAR10 dataset to get a new dataset of images with gaussian noise\n",
    "# Once above complete, rerun saved model from original notebook on new dataset"
   ]
  },
  {
   "cell_type": "code",
   "execution_count": 6,
   "id": "fdcfba32-0e40-45d5-9773-76d63e3aacc9",
   "metadata": {
    "tags": []
   },
   "outputs": [
    {
     "name": "stdout",
     "output_type": "stream",
     "text": [
      "Downloading https://www.cs.toronto.edu/~kriz/cifar-10-python.tar.gz to ./data\\cifar-10-python.tar.gz\n"
     ]
    },
    {
     "name": "stderr",
     "output_type": "stream",
     "text": [
      "100.0%\n"
     ]
    },
    {
     "name": "stdout",
     "output_type": "stream",
     "text": [
      "Extracting ./data\\cifar-10-python.tar.gz to ./data\n"
     ]
    }
   ],
   "source": [
    "transform = transforms.Compose(\n",
    "    [transforms.ToTensor(),\n",
    "     transforms.Normalize((0.5, 0.5, 0.5), (0.5, 0.5, 0.5))])\n",
    "\n",
    "# Number of samples processed before updating model\n",
    "batch_size = 4 \n",
    "\n",
    "trainset = torchvision.datasets.CIFAR10(root='./data', train=True,\n",
    "                                        download=True, transform=transform)\n",
    "trainloader = torch.utils.data.DataLoader(trainset, batch_size=batch_size,\n",
    "                                          shuffle=True, num_workers=2)\n",
    "\n",
    "# Image Categories\n",
    "classes = ('plane', 'car', 'bird', 'cat',\n",
    "           'deer', 'dog', 'frog', 'horse', 'ship', 'truck') \n"
   ]
  },
  {
   "cell_type": "code",
   "execution_count": 10,
   "id": "e110e54d-4cee-4674-b4b8-a5230f9dc1ab",
   "metadata": {
    "tags": []
   },
   "outputs": [
    {
     "name": "stdout",
     "output_type": "stream",
     "text": [
      "plane plane frog  bird \n"
     ]
    }
   ],
   "source": [
    "gaussian_noise()"
   ]
  },
  {
   "cell_type": "code",
   "execution_count": 7,
   "id": "39ffa3ff-28d7-41c1-a1dc-7dbae42850e6",
   "metadata": {
    "tags": []
   },
   "outputs": [
    {
     "name": "stdout",
     "output_type": "stream",
     "text": [
      "12500\n"
     ]
    }
   ],
   "source": [
    "print(len(trainloader))"
   ]
  },
  {
   "cell_type": "code",
   "execution_count": null,
   "id": "0f80d4e5",
   "metadata": {},
   "outputs": [],
   "source": []
  }
 ],
 "metadata": {
  "kernelspec": {
   "display_name": "Python 3 (ipykernel)",
   "language": "python",
   "name": "python3"
  },
  "language_info": {
   "codemirror_mode": {
    "name": "ipython",
    "version": 3
   },
   "file_extension": ".py",
   "mimetype": "text/x-python",
   "name": "python",
   "nbconvert_exporter": "python",
   "pygments_lexer": "ipython3",
   "version": "3.11.4"
  }
 },
 "nbformat": 4,
 "nbformat_minor": 5
}
