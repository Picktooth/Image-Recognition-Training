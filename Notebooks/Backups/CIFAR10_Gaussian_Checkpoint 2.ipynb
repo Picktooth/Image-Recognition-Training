{
 "cells": [
  {
   "cell_type": "code",
   "execution_count": 1,
   "id": "c494733f-00e6-4d91-aeeb-8f4714a6ca34",
   "metadata": {
    "tags": []
   },
   "outputs": [
    {
     "name": "stdout",
     "output_type": "stream",
     "text": [
      "Success\n"
     ]
    }
   ],
   "source": [
    "# Basics\n",
    "import torch\n",
    "import torchvision\n",
    "import torchvision.transforms as transforms\n",
    "import numpy as np\n",
    "import pandas as pd\n",
    "import os\n",
    "import cv2\n",
    "# Adding noise\n",
    "from skimage.util import random_noise\n",
    "from torchvision.utils import save_image\n",
    "import argparse\n",
    "\n",
    "# For CNN\n",
    "import torch.nn as nn\n",
    "import torch.nn.functional as F\n",
    "\n",
    "# For Loss Func. And Optimization\n",
    "import torch.optim as optim\n",
    "\n",
    "# For Visual Representation\n",
    "import matplotlib.pyplot as plt\n",
    "\n",
    "print(\"Success\")\n"
   ]
  },
  {
   "cell_type": "code",
   "execution_count": 3,
   "id": "a8ce311e",
   "metadata": {},
   "outputs": [],
   "source": [
    "EPOCHS = 10\n",
    "TRAIN_NOISE = True\n",
    "TEST_NOISE = False\n",
    "BATCH_SIZE = 1\n",
    "NUM_CLASSES = 10\n",
    "GENERATIONS = 100\n",
    "pretrained=True\n",
    "requires_grad=True\n",
    "\n",
    "transform = transforms.Compose([transforms.ToTensor(),transforms.Normalize((0.5, 0.5, 0.5), (0.5, 0.5, 0.5))])"
   ]
  },
  {
   "cell_type": "code",
   "execution_count": 4,
   "id": "ee8a0a0d",
   "metadata": {},
   "outputs": [],
   "source": [
    "device = torch.device(\"cuda:0\" if torch.cuda.is_available() else \"cpu\")"
   ]
  },
  {
   "cell_type": "code",
   "execution_count": 5,
   "id": "89a8a5b3",
   "metadata": {},
   "outputs": [
    {
     "name": "stdout",
     "output_type": "stream",
     "text": [
      "Files already downloaded and verified\n"
     ]
    }
   ],
   "source": [
    "# Data Downloading\n",
    "trainset = torchvision.datasets.CIFAR10(root='./data', train=True,\n",
    "                                        download=True, transform=transform)\n",
    "\n",
    "# Data Loader\n",
    "trainLoader = torch.utils.data.DataLoader(trainset, batch_size=BATCH_SIZE, shuffle=True, num_workers=2)\n",
    "\n",
    "# Image Categories\n",
    "classes = ('plane', 'car', 'bird', 'cat',\n",
    "           'deer', 'dog', 'frog', 'horse', 'ship', 'truck') "
   ]
  },
  {
   "cell_type": "code",
   "execution_count": 6,
   "id": "1cb7f27a",
   "metadata": {},
   "outputs": [],
   "source": [
    "# FUNCTIONS\n",
    "\n",
    "def gaussian_noise():\n",
    "    for data in trainLoader:\n",
    "        img, labels = data[0], data[1]\n",
    "        gauss_img = torch.tensor(random_noise(img, mode='gaussian', mean=0, var=0.05, clip=True))\n",
    "        \n",
    "        torchvision.utils.save_image(img, fr\"C:\\Users\\John\\Documents\\Visual Studio Code Python\\Image_Classification_Training\\CIFAR10 Gaussian Noise\\Img Without Noise\\{i}_normal.png\")\n",
    "        torchvision.utils.save_image(gauss_img, fr\"C:\\Users\\John\\Documents\\Visual Studio Code Python\\Image_Classification_Training\\CIFAR10 Gaussian Noise\\Img With Noise\\{i}_gaussian.png\")\n",
    "        \n",
    "        # Grabbing image labels (Truth)\n",
    "        print(' '.join(f'{classes[labels[j]]:5s}' for j in range(BATCH_SIZE)))\n",
    "\n",
    "        break\n",
    "    "
   ]
  },
  {
   "cell_type": "code",
   "execution_count": 7,
   "id": "673ab5a0",
   "metadata": {},
   "outputs": [],
   "source": [
    "for i in range(GENERATIONS):\n",
    "    gaussian_noise()"
   ]
  },
  {
   "cell_type": "code",
   "execution_count": 55,
   "id": "afef8990",
   "metadata": {},
   "outputs": [],
   "source": [
    "\n"
   ]
  },
  {
   "cell_type": "code",
   "execution_count": 66,
   "id": "04ef7b47",
   "metadata": {},
   "outputs": [],
   "source": []
  },
  {
   "cell_type": "code",
   "execution_count": 59,
   "id": "33049685",
   "metadata": {},
   "outputs": [
    {
     "name": "stdout",
     "output_type": "stream",
     "text": [
      "137\n"
     ]
    }
   ],
   "source": []
  }
 ],
 "metadata": {
  "kernelspec": {
   "display_name": "Python 3 (ipykernel)",
   "language": "python",
   "name": "python3"
  },
  "language_info": {
   "codemirror_mode": {
    "name": "ipython",
    "version": 3
   },
   "file_extension": ".py",
   "mimetype": "text/x-python",
   "name": "python",
   "nbconvert_exporter": "python",
   "pygments_lexer": "ipython3",
   "version": "3.11.4"
  }
 },
 "nbformat": 4,
 "nbformat_minor": 5
}
